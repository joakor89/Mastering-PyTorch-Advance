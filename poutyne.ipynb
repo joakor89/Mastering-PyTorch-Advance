{
 "cells": [
  {
   "cell_type": "markdown",
   "id": "9df9e576-0521-47fd-8d2b-379ae7ad5914",
   "metadata": {},
   "source": [
    "# The Poutyne Model\n",
    "\n",
    "### Loading Libraries"
   ]
  },
  {
   "cell_type": "code",
   "execution_count": 4,
   "id": "88fc2fa8-b932-409b-839d-17e87da2c657",
   "metadata": {},
   "outputs": [],
   "source": [
    "# Numerical Computing\n",
    "import math\n",
    "import numpy as np\n",
    "\n",
    "# Data Malipulation\n",
    "import pandas as pd\n",
    "\n",
    "# Data Visualization\n",
    "import matplotlib.pyplot as plt\n",
    "\n",
    "# PyTorch \n",
    "import torch\n",
    "import torch.nn as nn\n",
    "import torch.optim as optim\n",
    "from torchvision import transforms, utils\n",
    "from torchvision.datasets.mnist import MNIST\n",
    "from torch.utils.data import Subset, DataLoader\n",
    "\n",
    "# Poutyne \n",
    "from poutyne import set_seeds, Model"
   ]
  },
  {
   "cell_type": "code",
   "execution_count": 3,
   "id": "12d1d8bf-1675-403b-a8c9-afec88435c30",
   "metadata": {},
   "outputs": [],
   "source": []
  },
  {
   "cell_type": "code",
   "execution_count": null,
   "id": "31b5ad06-d74d-472d-b27b-6843d9f38c66",
   "metadata": {},
   "outputs": [],
   "source": []
  }
 ],
 "metadata": {
  "kernelspec": {
   "display_name": "Python 3 (ipykernel)",
   "language": "python",
   "name": "python3"
  },
  "language_info": {
   "codemirror_mode": {
    "name": "ipython",
    "version": 3
   },
   "file_extension": ".py",
   "mimetype": "text/x-python",
   "name": "python",
   "nbconvert_exporter": "python",
   "pygments_lexer": "ipython3",
   "version": "3.12.9"
  }
 },
 "nbformat": 4,
 "nbformat_minor": 5
}
